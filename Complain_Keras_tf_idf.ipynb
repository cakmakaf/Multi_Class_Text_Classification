{
 "cells": [
  {
   "cell_type": "markdown",
   "metadata": {},
   "source": [
    "##  Load the dataset\n",
    "\n",
    "The dataset we'll use is a list of opened complain cases with 268,363 records that contains complaint text (**text**), a message identifier (**complaint_id**) and a verified correct complaint department (**product_group**)."
   ]
  },
  {
   "cell_type": "code",
   "execution_count": 2,
   "metadata": {},
   "outputs": [
    {
     "name": "stderr",
     "output_type": "stream",
     "text": [
      "[nltk_data] Downloading package wordnet to\n",
      "[nltk_data]     /Users/ahmetcakmak/nltk_data...\n",
      "[nltk_data]   Package wordnet is already up-to-date!\n"
     ]
    }
   ],
   "source": [
    "from __future__ import absolute_import\n",
    "from __future__ import division\n",
    "from __future__ import print_function\n",
    "\n",
    "\n",
    "import itertools\n",
    "import os\n",
    "\n",
    "\n",
    "import matplotlib.pyplot as plt\n",
    "import numpy as np\n",
    "import pandas as pd\n",
    "import tensorflow as tf\n",
    "\n",
    "from sklearn.preprocessing import LabelBinarizer, LabelEncoder\n",
    "from sklearn.metrics import confusion_matrix\n",
    "from keras.callbacks import ModelCheckpoint\n",
    "from tensorflow import keras\n",
    "from keras.models import Sequential\n",
    "from keras.layers import Dense, Activation, Dropout\n",
    "from keras.preprocessing import text, sequence\n",
    "from keras import utils\n",
    "from sklearn.model_selection import StratifiedKFold\n",
    "\n",
    "import gensim\n",
    "from gensim.utils import simple_preprocess\n",
    "from gensim.parsing.preprocessing import STOPWORDS\n",
    "from nltk.stem import WordNetLemmatizer, SnowballStemmer\n",
    "from nltk.stem.porter import *\n",
    "import numpy as np\n",
    "np.random.seed()\n",
    "import nltk\n",
    "nltk.download('wordnet')\n",
    "import re\n",
    "import pandas as pd"
   ]
  },
  {
   "cell_type": "code",
   "execution_count": 3,
   "metadata": {},
   "outputs": [
    {
     "name": "stdout",
     "output_type": "stream",
     "text": [
      "You have TensorFlow version 1.13.1\n"
     ]
    }
   ],
   "source": [
    "# Check the version of TensorFlow\n",
    "print(\"You have TensorFlow version\", tf.__version__)"
   ]
  },
  {
   "cell_type": "code",
   "execution_count": 7,
   "metadata": {},
   "outputs": [
    {
     "name": "stdout",
     "output_type": "stream",
     "text": [
      "credit_reporting    81231\n",
      "debt_collection     61459\n",
      "mortgage            40280\n",
      "loan                31035\n",
      "credit_card         29553\n",
      "bank_service        20071\n",
      "money_transfers      4734\n",
      "Name: product_group, dtype: int64\n"
     ]
    },
    {
     "data": {
      "image/png": "[encoded data removed]",
      "text/plain": [
       "<Figure size 504x288 with 1 Axes>"
      ]
     },
     "metadata": {
      "needs_background": "light"
     },
     "output_type": "display_data"
    }
   ],
   "source": [
    "data = pd.read_csv(\"case_study_data.csv\")\n",
    "print(data['product_group'].value_counts())\n",
    "plt.figure(figsize=(7,4))\n",
    "data.product_group.value_counts().plot(kind='bar');\n",
    "\n"
   ]
  },
  {
   "cell_type": "code",
   "execution_count": 8,
   "metadata": {},
   "outputs": [
    {
     "data": {
      "text/html": [
       "<div>\n",
       "<style scoped>\n",
       "    .dataframe tbody tr th:only-of-type {\n",
       "        vertical-align: middle;\n",
       "    }\n",
       "\n",
       "    .dataframe tbody tr th {\n",
       "        vertical-align: top;\n",
       "    }\n",
       "\n",
       "    .dataframe thead th {\n",
       "        text-align: right;\n",
       "    }\n",
       "</style>\n",
       "<table border=\"1\" class=\"dataframe\">\n",
       "  <thead>\n",
       "    <tr style=\"text-align: right;\">\n",
       "      <th></th>\n",
       "      <th>complaint_id</th>\n",
       "      <th>product_group</th>\n",
       "      <th>text</th>\n",
       "    </tr>\n",
       "  </thead>\n",
       "  <tbody>\n",
       "    <tr>\n",
       "      <td>0</td>\n",
       "      <td>2815595</td>\n",
       "      <td>bank_service</td>\n",
       "      <td>On XX/XX/2017 my check # XXXX was debited from...</td>\n",
       "    </tr>\n",
       "    <tr>\n",
       "      <td>1</td>\n",
       "      <td>2217937</td>\n",
       "      <td>bank_service</td>\n",
       "      <td>I opened a Bank of the the West account. The a...</td>\n",
       "    </tr>\n",
       "    <tr>\n",
       "      <td>2</td>\n",
       "      <td>2657456</td>\n",
       "      <td>bank_service</td>\n",
       "      <td>wells fargo in nj opened a business account wi...</td>\n",
       "    </tr>\n",
       "    <tr>\n",
       "      <td>3</td>\n",
       "      <td>1414106</td>\n",
       "      <td>bank_service</td>\n",
       "      <td>A hold was placed on my saving account ( XXXX ...</td>\n",
       "    </tr>\n",
       "    <tr>\n",
       "      <td>4</td>\n",
       "      <td>1999158</td>\n",
       "      <td>bank_service</td>\n",
       "      <td>Dear CFPB : I need to send a major concern/com...</td>\n",
       "    </tr>\n",
       "  </tbody>\n",
       "</table>\n",
       "</div>"
      ],
      "text/plain": [
       "   complaint_id product_group  \\\n",
       "0       2815595  bank_service   \n",
       "1       2217937  bank_service   \n",
       "2       2657456  bank_service   \n",
       "3       1414106  bank_service   \n",
       "4       1999158  bank_service   \n",
       "\n",
       "                                                text  \n",
       "0  On XX/XX/2017 my check # XXXX was debited from...  \n",
       "1  I opened a Bank of the the West account. The a...  \n",
       "2  wells fargo in nj opened a business account wi...  \n",
       "3  A hold was placed on my saving account ( XXXX ...  \n",
       "4  Dear CFPB : I need to send a major concern/com...  "
      ]
     },
     "execution_count": 8,
     "metadata": {},
     "output_type": "execute_result"
    }
   ],
   "source": [
    "data.head()"
   ]
  },
  {
   "cell_type": "markdown",
   "metadata": {},
   "source": [
    "##  Data Preprocessing \n",
    "\n",
    "For data preprocessing we will execute the following steps\n",
    "\n",
    "* **Tokenization**: We will split the data into sentences and the sentences into words, then lowercase the entire data_text and remove all punctuations.\n",
    "* **Remove Stopwords**: All the **stopwords** are removed.\n",
    "* **Lemmatization**: The words concerning third party will be changed to first person and all past/future tense verbs are converted to present tense  \n",
    "* **stemming**: All words will be reduced to their root."
   ]
  },
  {
   "cell_type": "code",
   "execution_count": null,
   "metadata": {},
   "outputs": [],
   "source": [
    "stemmer = SnowballStemmer(\"english\")\n",
    "\n",
    "def lemm_stemm(x_text):\n",
    "    return stemmer.stem(WordNetLemmatizer().lemmatize(x_text, pos='v'))\n",
    "\n",
    "# Tokenize and lemmatize\n",
    "def preprocess(x_text):\n",
    "    result=''\n",
    "    for token in gensim.utils.simple_preprocess(x_text) :\n",
    "        if token not in gensim.parsing.preprocessing.STOPWORDS and len(token) > 3:\n",
    "            # Perform lemm_stemm on the token, then append to the result\n",
    "            result+=' '+lemm_stemm(token) #.append(lemm_stemm(token))\n",
    "    return result\n"
   ]
  },
  {
   "cell_type": "code",
   "execution_count": null,
   "metadata": {},
   "outputs": [],
   "source": [
    "# Preprocess all the complains, saving the list of results as 'processed_data'\n",
    "\n",
    "processed_data = data['text'].map(preprocess)"
   ]
  },
  {
   "cell_type": "code",
   "execution_count": null,
   "metadata": {},
   "outputs": [],
   "source": [
    "# Save the preprocessed data\n",
    "\n",
    "cdata.to_csv('processed_data.csv')"
   ]
  },
  {
   "cell_type": "code",
   "execution_count": 10,
   "metadata": {},
   "outputs": [],
   "source": [
    "# Instead of lemmatize preprocessed  data, we read it and put it back to the data file. \n",
    "\n",
    "cdata = pd.read_csv(\"processed_data.csv\",header = None)\n",
    "cdatas=cdata[:][1].str.replace(r'[^a-zA-Z\\s]+|x{2,}', '')"
   ]
  },
  {
   "cell_type": "code",
   "execution_count": 11,
   "metadata": {},
   "outputs": [],
   "source": [
    "# Some words have lost after lemmatize, therefore we put an arbitrary word instead of them. \n",
    "\n",
    "I=cdatas.isnull()\n",
    "cdatas[I]='money'\n",
    "data.text=cdatas"
   ]
  },
  {
   "cell_type": "markdown",
   "metadata": {},
   "source": [
    "**Eventually, the lemmatize 'text' column is inside of the main data**"
   ]
  },
  {
   "cell_type": "markdown",
   "metadata": {},
   "source": [
    "##  Splitting the Data "
   ]
  },
  {
   "cell_type": "code",
   "execution_count": null,
   "metadata": {},
   "outputs": [],
   "source": [
    "# Split the data into 10 random parts \n",
    "\n",
    "skf = StratifiedKFold(n_splits=10, shuffle = True)\n",
    "\n",
    "tmp=skf.split(np.zeros(len(data['product_group'])), data['product_group'])\n",
    "idx_list=[idx for idx in tmp]\n"
   ]
  },
  {
   "cell_type": "code",
   "execution_count": 13,
   "metadata": {},
   "outputs": [],
   "source": [
    "# 0.8 train set, 0.10 validation test, 0.1 test set.\n",
    "\n",
    "testid=idx_list[0][1]\n",
    "valid=idx_list[1][1]\n",
    "\n",
    "trainid=idx_list[2][1]\n",
    "for i in range(3,10):\n",
    "    trainid=np.hstack((trainid,idx_list[i][1]))\n",
    "\n",
    "\n",
    "train_posts = data['text'][trainid]\n",
    "train_tags = data['product_group'][trainid]\n",
    "\n",
    "val_posts = data['text'][valid]\n",
    "val_tags = data['product_group'][valid]\n",
    "\n",
    "test_posts = data['text'][testid]\n",
    "test_tags = data['product_group'][testid]\n"
   ]
  },
  {
   "cell_type": "code",
   "execution_count": 14,
   "metadata": {},
   "outputs": [],
   "source": [
    "# Use tokenizer methods to count the unique words in our vocabulary and assign each of those words to indices.\n",
    "\n",
    "max_words = 1000\n",
    "tokenize = text.Tokenizer(num_words=max_words, char_level=False)\n",
    "\n",
    "# Only fit on train, calling 'fit_on_texts()' automatically creates a word index lookup of our vocabulary.\n",
    "\n",
    "tokenize.fit_on_texts(train_posts) \n",
    "\n",
    "#mode: one of \"binary\", \"count\", \"tfidf\", \"freq\"\n",
    "#With our tokenizer, we can now use the texts_to_matrix method to create the training data \n",
    "#that we’ll pass our model.\n",
    "\n",
    "x_train = tokenize.texts_to_matrix(train_posts,mode=\"tfidf\")   \n",
    "x_val = tokenize.texts_to_matrix(val_posts,mode=\"tfidf\")\n",
    "x_test = tokenize.texts_to_matrix(test_posts,mode=\"tfidf\")\n"
   ]
  },
  {
   "cell_type": "code",
   "execution_count": 30,
   "metadata": {},
   "outputs": [
    {
     "name": "stdout",
     "output_type": "stream",
     "text": [
      "x_train shape: (214685, 1000)\n",
      "x_val shape: (26838, 1000)\n",
      "x_test shape: (26840, 1000)\n",
      "y_train shape: (214685, 7)\n",
      "y_val shape: (26838, 7)\n",
      "y_test shape: (26840, 7)\n"
     ]
    }
   ],
   "source": [
    "# We feed a one-hot vector to our model.\n",
    "\n",
    "encoder = LabelEncoder()\n",
    "encoder.fit(train_tags)\n",
    "y_train = encoder.transform(train_tags)\n",
    "y_val = encoder.transform(val_tags)\n",
    "y_test = encoder.transform(test_tags)\n",
    "\n",
    "num_classes = np.max(y_train) + 1\n",
    "y_train = utils.to_categorical(y_train, num_classes)\n",
    "y_val = utils.to_categorical(y_val, num_classes)\n",
    "y_test = utils.to_categorical(y_test, num_classes)\n",
    "\n",
    "\n",
    "print('x_train shape:', x_train.shape)\n",
    "print('x_val shape:', x_val.shape)\n",
    "print('x_test shape:', x_test.shape)\n",
    "print('y_train shape:', y_train.shape)\n",
    "print('y_val shape:', y_val.shape)\n",
    "print('y_test shape:', y_test.shape)"
   ]
  },
  {
   "cell_type": "markdown",
   "metadata": {},
   "source": [
    "## Running the Model"
   ]
  },
  {
   "cell_type": "code",
   "execution_count": 17,
   "metadata": {},
   "outputs": [],
   "source": [
    "\n",
    "batch_size = 256\n",
    "epochs = 20"
   ]
  },
  {
   "cell_type": "code",
   "execution_count": 18,
   "metadata": {},
   "outputs": [
    {
     "name": "stdout",
     "output_type": "stream",
     "text": [
      "WARNING:tensorflow:From /Users/ahmetcakmak/opt/anaconda3/lib/python3.7/site-packages/tensorflow/python/ops/resource_variable_ops.py:435: colocate_with (from tensorflow.python.framework.ops) is deprecated and will be removed in a future version.\n",
      "Instructions for updating:\n",
      "Colocations handled automatically by placer.\n"
     ]
    }
   ],
   "source": [
    "# After we transform our features and labels in a format Keras can read, \n",
    "# We are ready to build our text classification model.\n",
    "# Build the model\n",
    "# 1000x512x7 input MLP dimension\n",
    "# ReLu (y=max(0,x)) is identical for all positive values, and zero for all negative values, \n",
    "  # the model can therefore take less time to train or run, converges faster.\n",
    "# Dropout 75% to prevent overfitting\n",
    "# we pick activation as softmax since the output of Softmax is a probability distribution.\n",
    "model = Sequential()\n",
    "model.add(Dense(512, input_shape=(max_words,)))\n",
    "model.add(Activation('relu'))\n",
    "model.add(Dropout(0.5))\n",
    "model.add(Dense(num_classes))\n",
    "model.add(Activation('softmax'))\n",
    "\n",
    "model.compile(loss='categorical_crossentropy',\n",
    "              optimizer='adam',\n",
    "              metrics=['accuracy'])"
   ]
  },
  {
   "cell_type": "code",
   "execution_count": 19,
   "metadata": {},
   "outputs": [],
   "source": [
    "# give the path and check the best performed validation set.\n",
    "\n",
    "filepath=\"weights.best.hdf5\"\n",
    "checkpoint = ModelCheckpoint(filepath, monitor='val_accuracy', verbose=1, save_best_only=True, mode='max')\n",
    "callbacks_list = [checkpoint]\n"
   ]
  },
  {
   "cell_type": "code",
   "execution_count": 20,
   "metadata": {},
   "outputs": [
    {
     "name": "stdout",
     "output_type": "stream",
     "text": [
      "WARNING:tensorflow:From /Users/ahmetcakmak/opt/anaconda3/lib/python3.7/site-packages/tensorflow/python/ops/math_ops.py:3066: to_int32 (from tensorflow.python.ops.math_ops) is deprecated and will be removed in a future version.\n",
      "Instructions for updating:\n",
      "Use tf.cast instead.\n",
      "Train on 214685 samples, validate on 26838 samples\n",
      "Epoch 1/20\n",
      "214685/214685 [==============================] - 9s 43us/step - loss: 0.6770 - accuracy: 0.7822 - val_loss: 0.4943 - val_accuracy: 0.8334\n",
      "\n",
      "Epoch 00001: val_accuracy improved from -inf to 0.83337, saving model to weights.best.hdf5\n",
      "Epoch 2/20\n",
      "214685/214685 [==============================] - 10s 47us/step - loss: 0.5241 - accuracy: 0.8248 - val_loss: 0.4714 - val_accuracy: 0.8384\n",
      "\n",
      "Epoch 00002: val_accuracy improved from 0.83337 to 0.83840, saving model to weights.best.hdf5\n",
      "Epoch 3/20\n",
      "214685/214685 [==============================] - 9s 44us/step - loss: 0.4903 - accuracy: 0.8345 - val_loss: 0.4643 - val_accuracy: 0.8394\n",
      "\n",
      "Epoch 00003: val_accuracy improved from 0.83840 to 0.83944, saving model to weights.best.hdf5\n",
      "Epoch 4/20\n",
      "214685/214685 [==============================] - 9s 40us/step - loss: 0.4712 - accuracy: 0.8400 - val_loss: 0.4578 - val_accuracy: 0.8411\n",
      "\n",
      "Epoch 00004: val_accuracy improved from 0.83944 to 0.84112, saving model to weights.best.hdf5\n",
      "Epoch 5/20\n",
      "214685/214685 [==============================] - 9s 40us/step - loss: 0.4580 - accuracy: 0.8444 - val_loss: 0.4574 - val_accuracy: 0.8421\n",
      "\n",
      "Epoch 00005: val_accuracy improved from 0.84112 to 0.84213, saving model to weights.best.hdf5\n",
      "Epoch 6/20\n",
      "214685/214685 [==============================] - 9s 41us/step - loss: 0.4443 - accuracy: 0.8476 - val_loss: 0.4599 - val_accuracy: 0.8437\n",
      "\n",
      "Epoch 00006: val_accuracy improved from 0.84213 to 0.84369, saving model to weights.best.hdf5\n",
      "Epoch 7/20\n",
      "214685/214685 [==============================] - 9s 42us/step - loss: 0.4356 - accuracy: 0.8504 - val_loss: 0.4562 - val_accuracy: 0.8447\n",
      "\n",
      "Epoch 00007: val_accuracy improved from 0.84369 to 0.84466, saving model to weights.best.hdf5\n",
      "Epoch 8/20\n",
      "214685/214685 [==============================] - 8s 39us/step - loss: 0.4265 - accuracy: 0.8531 - val_loss: 0.4545 - val_accuracy: 0.8461\n",
      "\n",
      "Epoch 00008: val_accuracy improved from 0.84466 to 0.84611, saving model to weights.best.hdf5\n",
      "Epoch 9/20\n",
      "214685/214685 [==============================] - 567s 3ms/step - loss: 0.4164 - accuracy: 0.8559 - val_loss: 0.4580 - val_accuracy: 0.8454\n",
      "\n",
      "Epoch 00009: val_accuracy did not improve from 0.84611\n",
      "Epoch 10/20\n",
      "214685/214685 [==============================] - 8s 39us/step - loss: 0.4098 - accuracy: 0.8583 - val_loss: 0.4593 - val_accuracy: 0.8475\n",
      "\n",
      "Epoch 00010: val_accuracy improved from 0.84611 to 0.84746, saving model to weights.best.hdf5\n",
      "Epoch 11/20\n",
      "214685/214685 [==============================] - 55s 258us/step - loss: 0.4016 - accuracy: 0.8608 - val_loss: 0.4597 - val_accuracy: 0.8472\n",
      "\n",
      "Epoch 00011: val_accuracy did not improve from 0.84746\n",
      "Epoch 12/20\n",
      "214685/214685 [==============================] - 12s 58us/step - loss: 0.3944 - accuracy: 0.8627 - val_loss: 0.4630 - val_accuracy: 0.8484\n",
      "\n",
      "Epoch 00012: val_accuracy improved from 0.84746 to 0.84842, saving model to weights.best.hdf5\n",
      "Epoch 13/20\n",
      "214685/214685 [==============================] - 10s 45us/step - loss: 0.3897 - accuracy: 0.8645 - val_loss: 0.4631 - val_accuracy: 0.8493\n",
      "\n",
      "Epoch 00013: val_accuracy improved from 0.84842 to 0.84932, saving model to weights.best.hdf5\n",
      "Epoch 14/20\n",
      "214685/214685 [==============================] - 9s 41us/step - loss: 0.3831 - accuracy: 0.8663 - val_loss: 0.4655 - val_accuracy: 0.8492\n",
      "\n",
      "Epoch 00014: val_accuracy did not improve from 0.84932\n",
      "Epoch 15/20\n",
      "214685/214685 [==============================] - 9s 42us/step - loss: 0.3778 - accuracy: 0.8680 - val_loss: 0.4705 - val_accuracy: 0.8506\n",
      "\n",
      "Epoch 00015: val_accuracy improved from 0.84932 to 0.85062, saving model to weights.best.hdf5\n",
      "Epoch 16/20\n",
      "214685/214685 [==============================] - 9s 41us/step - loss: 0.3740 - accuracy: 0.8687 - val_loss: 0.4735 - val_accuracy: 0.8506\n",
      "\n",
      "Epoch 00016: val_accuracy did not improve from 0.85062\n",
      "Epoch 17/20\n",
      "214685/214685 [==============================] - 9s 41us/step - loss: 0.3662 - accuracy: 0.8716 - val_loss: 0.4771 - val_accuracy: 0.8502\n",
      "\n",
      "Epoch 00017: val_accuracy did not improve from 0.85062\n",
      "Epoch 18/20\n",
      "214685/214685 [==============================] - 10s 48us/step - loss: 0.3631 - accuracy: 0.8716 - val_loss: 0.4762 - val_accuracy: 0.8505\n",
      "\n",
      "Epoch 00018: val_accuracy did not improve from 0.85062\n",
      "Epoch 19/20\n",
      "214685/214685 [==============================] - 9s 43us/step - loss: 0.3578 - accuracy: 0.8737 - val_loss: 0.4829 - val_accuracy: 0.8502\n",
      "\n",
      "Epoch 00019: val_accuracy did not improve from 0.85062\n",
      "Epoch 20/20\n",
      "214685/214685 [==============================] - 9s 41us/step - loss: 0.3559 - accuracy: 0.8749 - val_loss: 0.4831 - val_accuracy: 0.8518\n",
      "\n",
      "Epoch 00020: val_accuracy improved from 0.85062 to 0.85181, saving model to weights.best.hdf5\n"
     ]
    }
   ],
   "source": [
    "# When we build our model, all we need to do is tell Keras the shape of our input data, output data, \n",
    "# and the type of each layer. Keras will take care the rest\n",
    "\n",
    "history = model.fit(x_train, y_train,\n",
    "                    batch_size=batch_size,\n",
    "                    epochs=epochs,\n",
    "                    verbose=1,\n",
    "                    callbacks=callbacks_list,\n",
    "                    validation_data=(x_val, y_val)) "
   ]
  },
  {
   "cell_type": "code",
   "execution_count": 21,
   "metadata": {},
   "outputs": [],
   "source": [
    "# To get the best model after training use the path\n",
    "\n",
    "model.load_weights(\"weights.best.hdf5\")\n",
    "model.compile(loss='categorical_crossentropy',\n",
    "              optimizer='adam',\n",
    "              metrics=['accuracy'])"
   ]
  },
  {
   "cell_type": "code",
   "execution_count": 22,
   "metadata": {},
   "outputs": [
    {
     "name": "stdout",
     "output_type": "stream",
     "text": [
      "26840/26840 [==============================] - 0s 13us/step\n",
      "Test score: 0.4823048125702649\n",
      "Test accuracy: 0.8559985160827637\n"
     ]
    }
   ],
   "source": [
    "# Evaluate the accuracy of our trained model\n",
    "score = model.evaluate(x_test, y_test,\n",
    "                       batch_size=batch_size, verbose=1)\n",
    "print('Test score:', score[0])\n",
    "print('Test accuracy:', score[1])"
   ]
  },
  {
   "cell_type": "code",
   "execution_count": 23,
   "metadata": {},
   "outputs": [
    {
     "name": "stdout",
     "output_type": "stream",
     "text": [
      " open bank west account account come promot promot ...\n",
      "Actual label:bank_service\n",
      "Predicted label: bank_service\n",
      "\n",
      " complaint bank america account start local bank n ...\n",
      "Actual label:bank_service\n",
      "Predicted label: bank_service\n",
      "\n",
      " bank deposit account balanc prior deposit accord  ...\n",
      "Actual label:bank_service\n",
      "Predicted label: bank_service\n",
      "\n",
      " account compani account close base malfunct machi ...\n",
      "Actual label:bank_service\n",
      "Predicted label: bank_service\n",
      "\n",
      " paypal hold account state account link account ow ...\n",
      "Actual label:bank_service\n",
      "Predicted label: bank_service\n",
      "\n",
      " visit union bank mufg union bank branch branch re ...\n",
      "Actual label:bank_service\n",
      "Predicted label: bank_service\n",
      "\n",
      " open money market account promot code promot bonu ...\n",
      "Actual label:bank_service\n",
      "Predicted label: bank_service\n",
      "\n",
      " dear sirmdm submit complaint paypow case number c ...\n",
      "Actual label:bank_service\n",
      "Predicted label: mortgage\n",
      "\n",
      " hawaiian begin take month total free check knowle ...\n",
      "Actual label:bank_service\n",
      "Predicted label: bank_service\n",
      "\n",
      " deposit bank address oklahoma machin deposit fail ...\n",
      "Actual label:bank_service\n",
      "Predicted label: bank_service\n",
      "\n"
     ]
    }
   ],
   "source": [
    "# Here's how to generate a prediction on individual examples\n",
    "text_labels = encoder.classes_ \n",
    "\n",
    "for i in range(10):\n",
    "    prediction = model.predict(np.array([x_test[i]]))\n",
    "    predicted_label = text_labels[np.argmax(prediction)]\n",
    "    print(test_posts.iloc[i][:50], \"...\")\n",
    "    print('Actual label:' + test_tags.iloc[i])\n",
    "    print(\"Predicted label: \" + predicted_label + \"\\n\")"
   ]
  },
  {
   "cell_type": "code",
   "execution_count": 24,
   "metadata": {},
   "outputs": [],
   "source": [
    "# Final layer outputs. Softmax for multi class categorical problems.\n",
    "\n",
    "y_softmax = model.predict(x_test)\n",
    "\n",
    "y_test_1d = []\n",
    "y_pred_1d = []\n",
    "\n",
    "for i in range(len(y_test)):\n",
    "    probs = y_test[i]\n",
    "    index_arr = np.nonzero(probs)\n",
    "    one_hot_index = index_arr[0].item(0)\n",
    "    y_test_1d.append(one_hot_index)\n",
    "\n",
    "for i in range(0, len(y_softmax)):\n",
    "    probs = y_softmax[i]\n",
    "    predicted_index = np.argmax(probs)\n",
    "    y_pred_1d.append(predicted_index)"
   ]
  },
  {
   "cell_type": "code",
   "execution_count": 48,
   "metadata": {},
   "outputs": [],
   "source": [
    "#   This function prints and plots the confusion matrix. \n",
    "\n",
    "\n",
    "def plot_confusion_matrix(cm, classes,\n",
    "                          title='Confusion matrix',\n",
    "                          cmap=plt.cm.Blues):\n",
    "\n",
    "\n",
    "    cm = cm.astype('float') / cm.sum(axis=1)[:, np.newaxis]\n",
    "\n",
    "    plt.imshow(cm, interpolation='nearest', cmap=cmap)\n",
    "    plt.title(title, fontsize=30)\n",
    "    plt.colorbar()\n",
    "    tick_marks = np.arange(len(classes))\n",
    "    plt.xticks(tick_marks, classes, rotation=45, fontsize=22)\n",
    "    plt.yticks(tick_marks, classes, fontsize=22)\n",
    "\n",
    "    fmt = '.2f'\n",
    "    thresh = cm.max() / 2.\n",
    "    for i, j in itertools.product(range(cm.shape[0]), range(cm.shape[1])):\n",
    "        plt.text(j, i, format(cm[i, j], fmt),\n",
    "                 horizontalalignment=\"center\",\n",
    "                 color=\"orange\" if cm[i, j] > thresh else \"black\")\n",
    "\n",
    "    plt.ylabel('True label', fontsize=25)\n",
    "    plt.xlabel('Predicted label', fontsize=25)\n"
   ]
  },
  {
   "cell_type": "code",
   "execution_count": 51,
   "metadata": {
    "scrolled": true
   },
   "outputs": [
    {
     "data": {
      "image/png": "[encoded data removed]",
      "text/plain": [
       "<Figure size 1440x1728 with 2 Axes>"
      ]
     },
     "metadata": {
      "needs_background": "light"
     },
     "output_type": "display_data"
    }
   ],
   "source": [
    "cnf_matrix = confusion_matrix(y_test_1d, y_pred_1d)\n",
    "plt.figure(figsize=(20,24))\n",
    "plot_confusion_matrix(cnf_matrix, classes=text_labels, title=\"Confusion matrix\")\n",
    "plt.show()"
   ]
  },
  {
   "cell_type": "markdown",
   "metadata": {},
   "source": [
    "## Conclusion\n",
    "\n",
    "As we can see, the Deep Learning model outperforms then the Naive Bayes and SVC model. Using RNN, BoW, Logistic Regresion might be another way to classify the complains. More importantly, the same model above performed ~83% before we cleaned the dataset. \n",
    "\n",
    "There exist, numerous ways to approach to this problem. One is Topic Modeling with Latent Dirichlet Allocation which is very common in semantic text mining based on Expectation MAximization (EM) Algorithm. In this way, we use labeled virtual documents to approach the real documents (complains) in the dataset. Then we make backwords to measure the error metric of our model. "
   ]
  },
  {
   "cell_type": "code",
   "execution_count": null,
   "metadata": {},
   "outputs": [],
   "source": []
  }
 ],
 "metadata": {
  "kernelspec": {
   "display_name": "Python 3",
   "language": "python",
   "name": "python3"
  },
  "language_info": {
   "codemirror_mode": {
    "name": "ipython",
    "version": 3
   },
   "file_extension": ".py",
   "mimetype": "text/x-python",
   "name": "python",
   "nbconvert_exporter": "python",
   "pygments_lexer": "ipython3",
   "version": "3.7.6"
  }
 },
 "nbformat": 4,
 "nbformat_minor": 2
}
